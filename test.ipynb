{
 "cells": [
  {
   "cell_type": "markdown",
   "metadata": {},
   "source": [
    "### test notebook"
   ]
  },
  {
   "cell_type": "code",
   "execution_count": 9,
   "metadata": {},
   "outputs": [],
   "source": [
    "import os, sys\n",
    "os.getcwd()\n",
    "\n",
    "sys.path.append(f\"{os.getcwd()}/code\")"
   ]
  },
  {
   "cell_type": "code",
   "execution_count": 10,
   "metadata": {},
   "outputs": [],
   "source": [
    "!mkdir -p ./data/train\n",
    "!mkdir -p ./data/test"
   ]
  },
  {
   "cell_type": "code",
   "execution_count": 11,
   "metadata": {},
   "outputs": [],
   "source": [
    "\"\"\"\n",
    "파일의 폴더 위치 (절대경로 및 상대경로 무관)\n",
    "\n",
    "ex)\n",
    "/root\n",
    "  ㄴ data\n",
    "    ㄴ mon_standard.pkl\n",
    "    ㄴ unmon_standard10.pkl\n",
    "\n",
    "=> BASE_PATH = \"/root/data/\"\n",
    "\"\"\"\n",
    "BASE_PATH = \"./data/\"\n",
    "# BASE_PATH = \"/content/drive/MyDrive/Colab Notebooks/23-02 Machine Learning/project/\""
   ]
  },
  {
   "cell_type": "code",
   "execution_count": 12,
   "metadata": {},
   "outputs": [
    {
     "name": "stdout",
     "output_type": "stream",
     "text": [
      "Loading datafile...\n",
      "Done.\n",
      "Loading datafile...\n",
      "Done.\n",
      "parsing dataset...\n",
      "Done.\n"
     ]
    }
   ],
   "source": [
    "\n",
    "import preprocessing\n",
    "\n",
    "df = preprocessing.process_raw_data(monitored_path=\"./data/mon_standard.pkl\", unmonitored_path=\"./data/unmon_standard10.pkl\", save_data=False)\n",
    "preprocessing.split_dataset(df)"
   ]
  },
  {
   "cell_type": "code",
   "execution_count": 13,
   "metadata": {},
   "outputs": [
    {
     "name": "stdout",
     "output_type": "stream",
     "text": [
      "Loading datafile...\n",
      "Done.\n",
      "Loading datafile...\n",
      "Done.\n",
      "Loading datafile...\n",
      "Done.\n"
     ]
    }
   ],
   "source": [
    "open_multi_train = preprocessing.load_pickle_file(\"./data/train/open_multi.pkl\")\n",
    "open_binary_train = preprocessing.load_pickle_file(\"./data/train/open_binary.pkl\")\n",
    "closed_multi_train = preprocessing.load_pickle_file(\"./data/train/closed_multi.pkl\")"
   ]
  }
 ],
 "metadata": {
  "kernelspec": {
   "display_name": "Python 3",
   "language": "python",
   "name": "python3"
  },
  "language_info": {
   "codemirror_mode": {
    "name": "ipython",
    "version": 3
   },
   "file_extension": ".py",
   "mimetype": "text/x-python",
   "name": "python",
   "nbconvert_exporter": "python",
   "pygments_lexer": "ipython3",
   "version": "3.11.6"
  }
 },
 "nbformat": 4,
 "nbformat_minor": 2
}
